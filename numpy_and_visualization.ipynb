{
  "nbformat": 4,
  "nbformat_minor": 0,
  "metadata": {
    "colab": {
      "provenance": [],
      "authorship_tag": "ABX9TyOksQcg5bwpsjCil3SPtqgB",
      "include_colab_link": true
    },
    "kernelspec": {
      "name": "python3",
      "display_name": "Python 3"
    },
    "language_info": {
      "name": "python"
    }
  },
  "cells": [
    {
      "cell_type": "markdown",
      "metadata": {
        "id": "view-in-github",
        "colab_type": "text"
      },
      "source": [
        "<a href=\"https://colab.research.google.com/github/aman60dehar/Numpy_and_Visualization/blob/main/numpy_and_visualization.ipynb\" target=\"_parent\"><img src=\"https://colab.research.google.com/assets/colab-badge.svg\" alt=\"Open In Colab\"/></a>"
      ]
    },
    {
      "cell_type": "markdown",
      "source": [
        "**Why we are using using Numpy:**\n",
        "*   Decreases input/output time.\n",
        "*   Normal array doesn't give us many functions to use to interact with it as compared to Numpy.\n",
        "bold text\n",
        "*   More convinient to use numpy arrays\n",
        "*   List item\n",
        "\n",
        "\n",
        "\n",
        "\n"
      ],
      "metadata": {
        "id": "GrRLGLP6QX2q"
      }
    },
    {
      "cell_type": "markdown",
      "source": [
        "**Import numpy and other libraries**"
      ],
      "metadata": {
        "id": "lR5zHIClNfJs"
      }
    },
    {
      "cell_type": "code",
      "source": [
        "import numpy as np\n",
        "import matplotlib.pyplot as pl\n",
        "import random \n"
      ],
      "metadata": {
        "id": "BepHjshdNCdr"
      },
      "execution_count": null,
      "outputs": []
    },
    {
      "cell_type": "markdown",
      "source": [
        "#**Cool Functions**\n",
        "---"
      ],
      "metadata": {
        "id": "8OYxLYtwVCcG"
      }
    },
    {
      "cell_type": "code",
      "source": [
        "import numpy as np #call numpy"
      ],
      "metadata": {
        "id": "sl2YsqdORG2d"
      },
      "execution_count": null,
      "outputs": []
    },
    {
      "cell_type": "code",
      "source": [
        "a = np.array([\n",
        "    [1,2,3],\n",
        "    [4,5,6],\n",
        "    [7,8,9]]\n",
        "    )\n",
        "#define array"
      ],
      "metadata": {
        "id": "P8XBwNMvRViN"
      },
      "execution_count": null,
      "outputs": []
    },
    {
      "cell_type": "code",
      "source": [
        "l = [1,2,3,4,5] #define list"
      ],
      "metadata": {
        "id": "S97wmzKjRzeq"
      },
      "execution_count": null,
      "outputs": []
    },
    {
      "cell_type": "code",
      "source": [
        "print(type(a),type(l)) #prints type of both variables"
      ],
      "metadata": {
        "colab": {
          "base_uri": "https://localhost:8080/"
        },
        "id": "8fJjIMQuR6b2",
        "outputId": "90edbc9f-ca63-4525-c672-b6e7d668a73d"
      },
      "execution_count": null,
      "outputs": [
        {
          "output_type": "stream",
          "name": "stdout",
          "text": [
            "<class 'numpy.ndarray'> <class 'list'>\n"
          ]
        }
      ]
    },
    {
      "cell_type": "code",
      "source": [
        "print(a+1) #add\n",
        "print(a*2) #multiply\n",
        "print(a**2) #exponents\n",
        "print(a/2) #divide\n",
        "print(a//2) #floor-divide\n",
        "print(a%2) #modulos"
      ],
      "metadata": {
        "colab": {
          "base_uri": "https://localhost:8080/"
        },
        "id": "9NlS5nEkSNb7",
        "outputId": "3f422e7a-8dc6-499a-acf3-e10716ef4a97"
      },
      "execution_count": null,
      "outputs": [
        {
          "output_type": "stream",
          "name": "stdout",
          "text": [
            "[[ 2  3  4]\n",
            " [ 5  6  7]\n",
            " [ 8  9 10]]\n",
            "[[ 2  4  6]\n",
            " [ 8 10 12]\n",
            " [14 16 18]]\n",
            "[[ 1  4  9]\n",
            " [16 25 36]\n",
            " [49 64 81]]\n",
            "[[0.5 1.  1.5]\n",
            " [2.  2.5 3. ]\n",
            " [3.5 4.  4.5]]\n",
            "[[0 1 1]\n",
            " [2 2 3]\n",
            " [3 4 4]]\n",
            "[[1 0 1]\n",
            " [0 1 0]\n",
            " [1 0 1]]\n"
          ]
        }
      ]
    },
    {
      "cell_type": "code",
      "source": [
        "al = np.array(l,dtype='float') #can also set type\n",
        "print(al)"
      ],
      "metadata": {
        "colab": {
          "base_uri": "https://localhost:8080/"
        },
        "id": "q_VbyB9jTEke",
        "outputId": "2f651d72-9403-4f4f-ee83-dc94a2e9946d"
      },
      "execution_count": null,
      "outputs": [
        {
          "output_type": "stream",
          "name": "stdout",
          "text": [
            "<class 'list'> <class 'numpy.ndarray'>\n"
          ]
        }
      ]
    },
    {
      "cell_type": "markdown",
      "source": [
        "#**Dimensions of an Array Exploitation**\n",
        "\n",
        "\n",
        "---\n",
        "\n",
        "\n",
        "**Dimension of an Array: Size of the Array ex. 2 rows 3 columns**"
      ],
      "metadata": {
        "id": "E7q1TNzwVzbt"
      }
    },
    {
      "cell_type": "code",
      "source": [
        "print(a.shape) #finds 'dimensions' of an array"
      ],
      "metadata": {
        "colab": {
          "base_uri": "https://localhost:8080/"
        },
        "id": "OXHa6zVXV-R-",
        "outputId": "97e97c80-0542-4bfd-c9e7-49846f606859"
      },
      "execution_count": null,
      "outputs": [
        {
          "output_type": "stream",
          "name": "stdout",
          "text": [
            "(3, 3)\n"
          ]
        }
      ]
    },
    {
      "cell_type": "code",
      "source": [
        "a2 = np.array([\n",
        "    [1,2,3,4],\n",
        "    [5,6,7,8]]\n",
        ")\n",
        "#new array\n",
        "\n",
        "a3 = np.ones((2,4),dtype=\"int\") #new array\n",
        "#can also be np.ones\n",
        "print(a2)\n",
        "print(a3) #same"
      ],
      "metadata": {
        "colab": {
          "base_uri": "https://localhost:8080/"
        },
        "id": "5Z6ux0USWoJf",
        "outputId": "69f48821-8651-4285-82ba-bd662b9a783b"
      },
      "execution_count": null,
      "outputs": [
        {
          "output_type": "stream",
          "name": "stdout",
          "text": [
            "[[1 2 3 4]\n",
            " [5 6 7 8]]\n",
            "[[3 3 3 3]\n",
            " [3 3 3 3]]\n"
          ]
        }
      ]
    },
    {
      "cell_type": "code",
      "source": [
        "print(a2.sum()) #adds all elements together"
      ],
      "metadata": {
        "colab": {
          "base_uri": "https://localhost:8080/"
        },
        "id": "MY9FjfmqXyjo",
        "outputId": "a0070614-1790-4eb2-e60c-1a212a26707b"
      },
      "execution_count": null,
      "outputs": [
        {
          "output_type": "stream",
          "name": "stdout",
          "text": [
            "36\n"
          ]
        }
      ]
    },
    {
      "cell_type": "code",
      "source": [
        "a4  = np.array([\n",
        "    [2,5,3],\n",
        "    [6,4,7],\n",
        "    [1,9,8] \n",
        "])\n",
        "\n",
        "transpose_a4 = a4.transpose()\n",
        "\n",
        "print(a4)\n",
        "print()\n",
        "print(transpose_a4)\n",
        "\n"
      ],
      "metadata": {
        "colab": {
          "base_uri": "https://localhost:8080/"
        },
        "id": "XIRJ0Sw4DyXg",
        "outputId": "7d22e4f8-e28e-48ff-d54c-3dac4bd6c05e"
      },
      "execution_count": null,
      "outputs": [
        {
          "output_type": "stream",
          "name": "stdout",
          "text": [
            "[[1]\n",
            " [2]\n",
            " [3]]\n",
            "\n",
            "[[1 2 3]]\n"
          ]
        }
      ]
    },
    {
      "cell_type": "markdown",
      "source": [
        "**Transpose swaps values in array diagonally so that:**\n",
        "\n",
        "6 - 5\n",
        "\n",
        "1 - 3\n",
        "\n",
        "9 - 7\n",
        "\n",
        "'-' means swaps with"
      ],
      "metadata": {
        "id": "h79k3i4tFimY"
      }
    },
    {
      "cell_type": "markdown",
      "source": [
        "\n",
        "**'Corner Case' for Transposing**\n",
        "\n",
        "Not Transposed:\n",
        "```\n",
        "[\n",
        "    [1],\n",
        "    [2],\n",
        "    [3]\n",
        "]\n",
        "```\n",
        "\n",
        "Transposed:\n",
        "```\n",
        "[\n",
        "    [1,2,3]\n",
        "]\n",
        "```\n"
      ],
      "metadata": {
        "id": "AcRjtqwWG6kQ"
      }
    },
    {
      "cell_type": "markdown",
      "source": [
        "# **Visualization of Arays with help from Numpy**\n",
        "\n",
        "\n",
        "---\n",
        "\n",
        "**Visualization can be helpfull when debugging a program**\n",
        "\n",
        "**Matplotlib is used for this**"
      ],
      "metadata": {
        "id": "FZYV1fkhVvto"
      }
    },
    {
      "cell_type": "code",
      "source": [
        "import matplotlib.pyplot as pl #import matplotlib"
      ],
      "metadata": {
        "id": "JrqhSCEvWtXP"
      },
      "execution_count": null,
      "outputs": []
    },
    {
      "cell_type": "code",
      "source": [
        "x = np.array(\n",
        "    [0,10,20,30,40,50]\n",
        ")\n",
        "y = np.array(\n",
        "    [0,1,2,3,4,5]\n",
        ")\n",
        "\n",
        "x2 = np.array(\n",
        "    [0,1,2,3,4,5]\n",
        ")\n",
        "y2 = np.array(\n",
        "    [0,10,20,30,40,50]\n",
        ")\n",
        "#creating 4 arrays to use for this project\n"
      ],
      "metadata": {
        "id": "LXpNu2okWO3A"
      },
      "execution_count": null,
      "outputs": []
    },
    {
      "cell_type": "code",
      "source": [
        "pl.plot(x,y,\"-\",ms = 20,mfc = 'r')\n",
        "pl.plot(x2,y2,\"-\",ms = 20,mfc = 'r')\n",
        " #generates graphs\n",
        "\n",
        "pl.xlabel('Step Size')\n",
        "pl.ylabel('Errors')\n",
        "#labels for x and y axis\n",
        "\n",
        "pl.grid() #turns graph into grid\n",
        "pl.show() #displays graph"
      ],
      "metadata": {
        "colab": {
          "base_uri": "https://localhost:8080/",
          "height": 279
        },
        "id": "wY4aDhtPXTWO",
        "outputId": "60860457-8357-4bdb-fa6a-e9032485efe5"
      },
      "execution_count": null,
      "outputs": [
        {
          "output_type": "display_data",
          "data": {
            "text/plain": [
              "<Figure size 432x288 with 1 Axes>"
            ],
            "image/png": "[encoded data removed]"
          },
          "metadata": {
            "needs_background": "light"
          }
        }
      ]
    },
    {
      "cell_type": "code",
      "source": [
        "names = np.array(\n",
        "    [\"apple\",\"banana\",\"kiwi\",\"orange\",\"watermelon\", \"anshika\"]\n",
        ")\n",
        "amount_sold = np.array(\n",
        "    [1,2,3,6,3,10]\n",
        ")\n",
        "\n",
        "#making lists for bar graph"
      ],
      "metadata": {
        "id": "7fsrTzzlX5mM"
      },
      "execution_count": null,
      "outputs": []
    },
    {
      "cell_type": "code",
      "source": [
        "pl.bar(names,amount_sold,color = '#2596be')\n",
        "pl.show()\n",
        "# create bar graph"
      ],
      "metadata": {
        "colab": {
          "base_uri": "https://localhost:8080/",
          "height": 265
        },
        "id": "7gtVvRynbSng",
        "outputId": "b37266ca-02c8-40c8-ebaa-8491c88a065f"
      },
      "execution_count": null,
      "outputs": [
        {
          "output_type": "display_data",
          "data": {
            "text/plain": [
              "<Figure size 432x288 with 1 Axes>"
            ],
            "image/png": "[encoded data removed]"
          },
          "metadata": {
            "needs_background": "light"
          }
        }
      ]
    },
    {
      "cell_type": "code",
      "source": [
        "\n",
        "people = np.array(\n",
        "    [5,10,17,23,40]\n",
        ") \n",
        "jobs = np.array(\n",
        "    ['geneticist','government official',\"software engineer\",\"unemployed\",\"builder/farmer\",]\n",
        ")\n",
        "\n",
        "#pie chart\n",
        "pl.pie(people,labels = jobs)\n",
        "pl.show()"
      ],
      "metadata": {
        "colab": {
          "base_uri": "https://localhost:8080/",
          "height": 248
        },
        "id": "3alNxVSfbtwO",
        "outputId": "6c11c231-a738-4674-e2c6-ab0a10c62f7c"
      },
      "execution_count": null,
      "outputs": [
        {
          "output_type": "display_data",
          "data": {
            "text/plain": [
              "<Figure size 432x288 with 1 Axes>"
            ],
            "image/png": "[encoded data removed]"
          },
          "metadata": {}
        }
      ]
    },
    {
      "cell_type": "code",
      "source": [
        "x = []\n",
        "a_x = []\n",
        "for i in range(1,1001): \n",
        "    x.append(random.random())\n",
        "    a_x.append(sum(x)/i)\n",
        "\n",
        "y = []\n",
        "for i in range(1000): \n",
        "    y.append(i)\n",
        "print(y)\n",
        "\n",
        "pl.plot(y,x)\n",
        "pl.plot(y,a_x)\n",
        "pl.show() #shows all plots between it and previous pl.show()\n",
        "\n"
      ],
      "metadata": {
        "colab": {
          "base_uri": "https://localhost:8080/",
          "height": 467
        },
        "id": "LSixF1jFOFJL",
        "outputId": "65e4f765-c3df-42b9-831f-3abee41533a2"
      },
      "execution_count": null,
      "outputs": [
        {
          "output_type": "stream",
          "name": "stdout",
          "text": [
            "[1, 2, 3, 4, 5, 6, 7, 8, 9, 10, 11, 12, 13, 14, 15, 16, 17, 18, 19, 20, 21, 22, 23, 24, 25, 26, 27, 28, 29, 30, 31, 32, 33, 34, 35, 36, 37, 38, 39, 40, 41, 42, 43, 44, 45, 46, 47, 48, 49, 50, 51, 52, 53, 54, 55, 56, 57, 58, 59, 60, 61, 62, 63, 64, 65, 66, 67, 68, 69, 70, 71, 72, 73, 74, 75, 76, 77, 78, 79, 80, 81, 82, 83, 84, 85, 86, 87, 88, 89, 90, 91, 92, 93, 94, 95, 96, 97, 98, 99, 100, 101, 102, 103, 104, 105, 106, 107, 108, 109, 110, 111, 112, 113, 114, 115, 116, 117, 118, 119, 120, 121, 122, 123, 124, 125, 126, 127, 128, 129, 130, 131, 132, 133, 134, 135, 136, 137, 138, 139, 140, 141, 142, 143, 144, 145, 146, 147, 148, 149, 150, 151, 152, 153, 154, 155, 156, 157, 158, 159, 160, 161, 162, 163, 164, 165, 166, 167, 168, 169, 170, 171, 172, 173, 174, 175, 176, 177, 178, 179, 180, 181, 182, 183, 184, 185, 186, 187, 188, 189, 190, 191, 192, 193, 194, 195, 196, 197, 198, 199, 200, 201, 202, 203, 204, 205, 206, 207, 208, 209, 210, 211, 212, 213, 214, 215, 216, 217, 218, 219, 220, 221, 222, 223, 224, 225, 226, 227, 228, 229, 230, 231, 232, 233, 234, 235, 236, 237, 238, 239, 240, 241, 242, 243, 244, 245, 246, 247, 248, 249, 250, 251, 252, 253, 254, 255, 256, 257, 258, 259, 260, 261, 262, 263, 264, 265, 266, 267, 268, 269, 270, 271, 272, 273, 274, 275, 276, 277, 278, 279, 280, 281, 282, 283, 284, 285, 286, 287, 288, 289, 290, 291, 292, 293, 294, 295, 296, 297, 298, 299, 300, 301, 302, 303, 304, 305, 306, 307, 308, 309, 310, 311, 312, 313, 314, 315, 316, 317, 318, 319, 320, 321, 322, 323, 324, 325, 326, 327, 328, 329, 330, 331, 332, 333, 334, 335, 336, 337, 338, 339, 340, 341, 342, 343, 344, 345, 346, 347, 348, 349, 350, 351, 352, 353, 354, 355, 356, 357, 358, 359, 360, 361, 362, 363, 364, 365, 366, 367, 368, 369, 370, 371, 372, 373, 374, 375, 376, 377, 378, 379, 380, 381, 382, 383, 384, 385, 386, 387, 388, 389, 390, 391, 392, 393, 394, 395, 396, 397, 398, 399, 400, 401, 402, 403, 404, 405, 406, 407, 408, 409, 410, 411, 412, 413, 414, 415, 416, 417, 418, 419, 420, 421, 422, 423, 424, 425, 426, 427, 428, 429, 430, 431, 432, 433, 434, 435, 436, 437, 438, 439, 440, 441, 442, 443, 444, 445, 446, 447, 448, 449, 450, 451, 452, 453, 454, 455, 456, 457, 458, 459, 460, 461, 462, 463, 464, 465, 466, 467, 468, 469, 470, 471, 472, 473, 474, 475, 476, 477, 478, 479, 480, 481, 482, 483, 484, 485, 486, 487, 488, 489, 490, 491, 492, 493, 494, 495, 496, 497, 498, 499, 500, 501, 502, 503, 504, 505, 506, 507, 508, 509, 510, 511, 512, 513, 514, 515, 516, 517, 518, 519, 520, 521, 522, 523, 524, 525, 526, 527, 528, 529, 530, 531, 532, 533, 534, 535, 536, 537, 538, 539, 540, 541, 542, 543, 544, 545, 546, 547, 548, 549, 550, 551, 552, 553, 554, 555, 556, 557, 558, 559, 560, 561, 562, 563, 564, 565, 566, 567, 568, 569, 570, 571, 572, 573, 574, 575, 576, 577, 578, 579, 580, 581, 582, 583, 584, 585, 586, 587, 588, 589, 590, 591, 592, 593, 594, 595, 596, 597, 598, 599, 600, 601, 602, 603, 604, 605, 606, 607, 608, 609, 610, 611, 612, 613, 614, 615, 616, 617, 618, 619, 620, 621, 622, 623, 624, 625, 626, 627, 628, 629, 630, 631, 632, 633, 634, 635, 636, 637, 638, 639, 640, 641, 642, 643, 644, 645, 646, 647, 648, 649, 650, 651, 652, 653, 654, 655, 656, 657, 658, 659, 660, 661, 662, 663, 664, 665, 666, 667, 668, 669, 670, 671, 672, 673, 674, 675, 676, 677, 678, 679, 680, 681, 682, 683, 684, 685, 686, 687, 688, 689, 690, 691, 692, 693, 694, 695, 696, 697, 698, 699, 700, 701, 702, 703, 704, 705, 706, 707, 708, 709, 710, 711, 712, 713, 714, 715, 716, 717, 718, 719, 720, 721, 722, 723, 724, 725, 726, 727, 728, 729, 730, 731, 732, 733, 734, 735, 736, 737, 738, 739, 740, 741, 742, 743, 744, 745, 746, 747, 748, 749, 750, 751, 752, 753, 754, 755, 756, 757, 758, 759, 760, 761, 762, 763, 764, 765, 766, 767, 768, 769, 770, 771, 772, 773, 774, 775, 776, 777, 778, 779, 780, 781, 782, 783, 784, 785, 786, 787, 788, 789, 790, 791, 792, 793, 794, 795, 796, 797, 798, 799, 800, 801, 802, 803, 804, 805, 806, 807, 808, 809, 810, 811, 812, 813, 814, 815, 816, 817, 818, 819, 820, 821, 822, 823, 824, 825, 826, 827, 828, 829, 830, 831, 832, 833, 834, 835, 836, 837, 838, 839, 840, 841, 842, 843, 844, 845, 846, 847, 848, 849, 850, 851, 852, 853, 854, 855, 856, 857, 858, 859, 860, 861, 862, 863, 864, 865, 866, 867, 868, 869, 870, 871, 872, 873, 874, 875, 876, 877, 878, 879, 880, 881, 882, 883, 884, 885, 886, 887, 888, 889, 890, 891, 892, 893, 894, 895, 896, 897, 898, 899, 900, 901, 902, 903, 904, 905, 906, 907, 908, 909, 910, 911, 912, 913, 914, 915, 916, 917, 918, 919, 920, 921, 922, 923, 924, 925, 926, 927, 928, 929, 930, 931, 932, 933, 934, 935, 936, 937, 938, 939, 940, 941, 942, 943, 944, 945, 946, 947, 948, 949, 950, 951, 952, 953, 954, 955, 956, 957, 958, 959, 960, 961, 962, 963, 964, 965, 966, 967, 968, 969, 970, 971, 972, 973, 974, 975, 976, 977, 978, 979, 980, 981, 982, 983, 984, 985, 986, 987, 988, 989, 990, 991, 992, 993, 994, 995, 996, 997, 998, 999, 1000]\n"
          ]
        },
        {
          "output_type": "display_data",
          "data": {
            "text/plain": [
              "<Figure size 640x480 with 1 Axes>"
            ],
            "image/png": "[encoded data removed]"
          },
          "metadata": {}
        }
      ]
    }
  ]
}